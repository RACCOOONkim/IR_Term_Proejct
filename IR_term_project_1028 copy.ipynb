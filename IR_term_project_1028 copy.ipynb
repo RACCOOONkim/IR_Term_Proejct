{
  "cells": [
    {
      "cell_type": "markdown",
      "metadata": {
        "id": "4ZmO02mB-cp_"
      },
      "source": [
        "#1. 환경구축"
      ]
    },
    {
      "cell_type": "markdown",
      "metadata": {
        "id": "updN43PY-elo"
      },
      "source": [
        "##1-1. 텍스트 추출"
      ]
    },
    {
      "cell_type": "code",
      "execution_count": null,
      "metadata": {
        "colab": {
          "base_uri": "https://localhost:8080/"
        },
        "id": "ImO9OOKn-uGf",
        "outputId": "105443c8-c98e-4ace-eb0b-890bfc25d063"
      },
      "outputs": [],
      "source": [
        "!pip install selenium\n",
        "!apt-get update\n",
        "!apt install chromium-chromedriver"
      ]
    },
    {
      "cell_type": "code",
      "execution_count": null,
      "metadata": {
        "id": "mrVZiy0G-2KW"
      },
      "outputs": [],
      "source": [
        "from selenium import webdriver\n",
        "from urllib.request import urlopen\n",
        "from bs4 import BeautifulSoup as bs\n",
        "from urllib.parse import quote_plus\n",
        "from selenium.webdriver.common.keys import Keys\n",
        "import time"
      ]
    },
    {
      "cell_type": "code",
      "execution_count": null,
      "metadata": {
        "id": "x5cD6tFw-39m"
      },
      "outputs": [],
      "source": [
        "chrome_options=webdriver.ChromeOptions()\n",
        "chrome_options.add_argument('--headless')\n",
        "chrome_options.add_argument('--no-sandbox')\n",
        "chrome_options.add_argument('--disable-dev-shm-usage')\n",
        "driver=webdriver.Chrome(options=chrome_options)\n"
      ]
    },
    {
      "cell_type": "code",
      "execution_count": null,
      "metadata": {
        "id": "j76bPYyV-57p"
      },
      "outputs": [],
      "source": [
        "import json\n",
        "import pandas as pd\n",
        "import re"
      ]
    },
    {
      "cell_type": "markdown",
      "metadata": {
        "id": "sqKtTagiYt7N"
      },
      "source": [
        "## 1-2. 텍스트 전처리"
      ]
    },
    {
      "cell_type": "code",
      "execution_count": null,
      "metadata": {
        "colab": {
          "base_uri": "https://localhost:8080/"
        },
        "id": "SE6cDdeAYwGZ",
        "outputId": "53f0efac-eafe-432f-d332-7e3f5c92d85d"
      },
      "outputs": [],
      "source": [
        "!pip install pandas\n",
        "!pip install nltk\n",
        "!pip install numpy"
      ]
    },
    {
      "cell_type": "code",
      "execution_count": null,
      "metadata": {
        "id": "H6Jl8uFpY2tl"
      },
      "outputs": [],
      "source": [
        "import numpy as np\n",
        "import pandas as pd\n",
        "import nltk\n",
        "from nltk.corpus import stopwords\n",
        "from nltk.tokenize import word_tokenize\n",
        "from nltk.stem import PorterStemmer\n",
        "import re\n",
        "import os\n",
        "import math"
      ]
    },
    {
      "cell_type": "code",
      "execution_count": null,
      "metadata": {
        "colab": {
          "base_uri": "https://localhost:8080/"
        },
        "id": "M9DhTA1IY59p",
        "outputId": "d3ebfe4f-a233-47f4-c57a-117e22e55fc5"
      },
      "outputs": [],
      "source": [
        "nltk.download('punkt', quiet=True)\n",
        "nltk.download('stopwords', quiet=True)"
      ]
    },
    {
      "cell_type": "code",
      "execution_count": null,
      "metadata": {
        "id": "vMhU9rZMd1wz"
      },
      "outputs": [],
      "source": [
        "stopwords = set(stopwords.words('english'))"
      ]
    },
    {
      "cell_type": "code",
      "execution_count": null,
      "metadata": {
        "id": "jYpOuI3te6Cu"
      },
      "outputs": [],
      "source": [
        "stopwords2=['.',',']"
      ]
    },
    {
      "cell_type": "markdown",
      "metadata": {
        "id": "6VqDLPEs-gHY"
      },
      "source": [
        "##1-3. vector space model 구축"
      ]
    },
    {
      "cell_type": "code",
      "execution_count": null,
      "metadata": {
        "colab": {
          "base_uri": "https://localhost:8080/"
        },
        "id": "A3cb3KUhYiab",
        "outputId": "afd53a71-e455-47e5-9179-3b85ce35f636"
      },
      "outputs": [],
      "source": [
        "!pip install scikit-learn"
      ]
    },
    {
      "cell_type": "markdown",
      "metadata": {
        "id": "d7eNB5iJ-ixN"
      },
      "source": [
        "#2. 텍스트 추출"
      ]
    },
    {
      "cell_type": "code",
      "execution_count": null,
      "metadata": {
        "id": "vhim8svv-tmC"
      },
      "outputs": [],
      "source": [
        "url=\"https://www.gutenberg.org/cache/epub/1342/pg1342.txt\"\n",
        "driver.get(url)\n",
        "soup=bs(driver.page_source, 'html.parser')"
      ]
    },
    {
      "cell_type": "code",
      "execution_count": null,
      "metadata": {
        "colab": {
          "base_uri": "https://localhost:8080/"
        },
        "id": "QtHQprB_YSC_",
        "outputId": "f6dac96d-20ad-4034-f19d-2510d6efdd8a"
      },
      "outputs": [],
      "source": [
        "contents=soup.find('body').string\n",
        "print(contents[0:50])"
      ]
    },
    {
      "cell_type": "code",
      "execution_count": null,
      "metadata": {
        "colab": {
          "base_uri": "https://localhost:8080/"
        },
        "id": "AZ3TDmEBYmqc",
        "outputId": "51f4337f-d252-4718-ab03-8597bf557a7e"
      },
      "outputs": [],
      "source": [
        "contents_head_cut=contents.split('Chapter I.]')[1].lstrip()\n",
        "print(contents_head_cut[0:30])"
      ]
    },
    {
      "cell_type": "code",
      "execution_count": null,
      "metadata": {
        "colab": {
          "base_uri": "https://localhost:8080/"
        },
        "id": "ZxlEMjWC-uy5",
        "outputId": "fb08f8da-1360-4e4f-f320-883b9bb78cc9"
      },
      "outputs": [],
      "source": [
        "tail='''                            [Illustration:\n",
        "\n",
        "                                  THE\n",
        "                                  END\n",
        "                                   ]\n",
        "'''\n",
        "contents_tail_cut=contents_head_cut.split(tail)[0].rstrip()\n",
        "print(contents_tail_cut[-30:])"
      ]
    },
    {
      "cell_type": "code",
      "execution_count": null,
      "metadata": {
        "id": "qxBaZFymZS6B"
      },
      "outputs": [],
      "source": [
        "contents_chapters=contents_tail_cut.split('CHAPTER')"
      ]
    },
    {
      "cell_type": "code",
      "execution_count": null,
      "metadata": {
        "id": "-iMGjnolwtRS"
      },
      "outputs": [],
      "source": [
        "contents_chapters_cut=[]\n",
        "\n",
        "contents_chapters_cut.append(contents_chapters[0])\n",
        "\n",
        "for i in range(1, len(contents_chapters)):\n",
        "  contents_chapters_cut.append(contents_chapters[i][7:])"
      ]
    },
    {
      "cell_type": "code",
      "execution_count": null,
      "metadata": {
        "id": "Gj3jt3jv4dsR"
      },
      "outputs": [],
      "source": [
        "def clean_chapters(chapter):\n",
        "  new_content=chapter.replace('\\n',' ').replace('[Illustration]','')\n",
        "  pattern1=r'\\[Illustration.*?\\]'\n",
        "  #pattern2=r'\\[Illustration.*?\\]\\]'\n",
        "\n",
        "  new_content=re.sub(pattern1,'',new_content)\n",
        "  new_content=new_content.replace(' ] ','').replace('  ',' ')\n",
        "\n",
        "  return new_content"
      ]
    },
    {
      "cell_type": "code",
      "execution_count": null,
      "metadata": {
        "id": "sxCqT81H5BaK"
      },
      "outputs": [],
      "source": [
        "contents_chapters_cleaned=[]\n",
        "\n",
        "for chapters in contents_chapters_cut:\n",
        "  contents_chapters_cleaned.append(clean_chapters(chapters))"
      ]
    },
    {
      "cell_type": "code",
      "execution_count": null,
      "metadata": {
        "id": "DqHvbE47fMms"
      },
      "outputs": [],
      "source": [
        "chapters_target=[3,5,7,9,11,13,15,17,19]\n",
        "\n",
        "target_txt=[]\n",
        "\n",
        "for target in chapters_target:\n",
        "  target_txt.append(contents_chapters_cleaned[target-1])"
      ]
    },
    {
      "cell_type": "code",
      "execution_count": null,
      "metadata": {
        "colab": {
          "base_uri": "https://localhost:8080/",
          "height": 90
        },
        "id": "O6mH9mDeZtYa",
        "outputId": "4805a322-a9ae-4b0e-fd8c-a412cb96b60b"
      },
      "outputs": [],
      "source": [
        "target_txt[0]"
      ]
    },
    {
      "cell_type": "markdown",
      "metadata": {
        "id": "x-hOO9LnZxXk"
      },
      "source": [
        "#3. 텍스트 전처리"
      ]
    },
    {
      "cell_type": "code",
      "execution_count": null,
      "metadata": {
        "id": "PHkhe3Iwfbqo"
      },
      "outputs": [],
      "source": [
        "def preprocess_with_stemming(text):\n",
        "  text = re.sub(r'[^\\w\\s.,?]', '', text.lower())\n",
        "  tokens = word_tokenize(text)\n",
        "  stemmer=PorterStemmer()\n",
        "  tokens_cleaned=[]\n",
        "\n",
        "  for t in tokens:\n",
        "    if t not in stopwords:\n",
        "      if t not in stopwords2:\n",
        "        tokens_cleaned.append(stemmer.stem(t))\n",
        "\n",
        "\n",
        "  return tokens_cleaned"
      ]
    },
    {
      "cell_type": "code",
      "execution_count": null,
      "metadata": {
        "id": "at2DG0ZCaw1G"
      },
      "outputs": [],
      "source": [
        "target_with_stemming=[]\n",
        "\n",
        "for target in target_txt:\n",
        "  target_with_stemming.append(preprocess_with_stemming(target))"
      ]
    },
    {
      "cell_type": "code",
      "execution_count": null,
      "metadata": {
        "id": "1U6JC7FLdQb5"
      },
      "outputs": [],
      "source": [
        "def preprocess_without_stemming(text):\n",
        "  text_cleaned = re.sub(r'[^\\w\\s.,?]', '', text.lower())\n",
        "  tokens=word_tokenize(text_cleaned)\n",
        "  tokens_filtered=[]\n",
        "  for t in tokens:\n",
        "    if t not in stopwords:\n",
        "      if t not in stopwords2:\n",
        "        tokens_filtered.append(t)\n",
        "\n",
        "  return tokens_filtered"
      ]
    },
    {
      "cell_type": "code",
      "execution_count": null,
      "metadata": {
        "id": "rS9CsF9ibdD0"
      },
      "outputs": [],
      "source": [
        "target_without_stemming=[]\n",
        "\n",
        "for target in target_txt:\n",
        "  target_without_stemming.append(preprocess_without_stemming(target))"
      ]
    },
    {
      "cell_type": "markdown",
      "metadata": {
        "id": "bRsuesY0-kyO"
      },
      "source": [
        "#4. Vector Space Model 구축"
      ]
    },
    {
      "cell_type": "code",
      "execution_count": null,
      "metadata": {
        "colab": {
          "base_uri": "https://localhost:8080/"
        },
        "id": "KZmBD1ud-vNG",
        "outputId": "facb9847-fb70-4c1d-cff0-3912146d6b93"
      },
      "outputs": [],
      "source": [
        "##테스트\n",
        "from sklearn.feature_extraction.text import TfidfVectorizer\n",
        "from sklearn.metrics.pairwise import cosine_similarity\n",
        "\n",
        "preprocessed_documents=[' '.join(doc) for doc in target_without_stemming]\n",
        "preprocessed_query=' '.join(preprocess_without_stemming(\"Who was Mr. Bingley's first choice at the party?\"))\n",
        "\n",
        "tfidf_vectorizer=TfidfVectorizer()\n",
        "tfidf_matrix=tfidf_vectorizer.fit_transform(preprocessed_documents)\n",
        "\n",
        "query_vector=tfidf_vectorizer.transform([preprocessed_query])\n",
        "\n",
        "cosine_similarities=cosine_similarity(query_vector, tfidf_matrix)\n",
        "\n",
        "results=[(chapters_target[i], cosine_similarities[0][i]) for i in range(len(preprocessed_documents))]\n",
        "results.sort(key=lambda x: x[1], reverse=True)\n",
        "\n",
        "print(results)"
      ]
    },
    {
      "cell_type": "markdown",
      "metadata": {
        "id": "YjW6G_H8-mze"
      },
      "source": [
        "#5. 쿼리 실행"
      ]
    },
    {
      "cell_type": "code",
      "execution_count": null,
      "metadata": {
        "id": "ia6Xx7PiIWzT"
      },
      "outputs": [],
      "source": []
    }
  ],
  "metadata": {
    "colab": {
      "provenance": []
    },
    "kernelspec": {
      "display_name": "Python 3",
      "name": "python3"
    },
    "language_info": {
      "name": "python"
    }
  },
  "nbformat": 4,
  "nbformat_minor": 0
}
